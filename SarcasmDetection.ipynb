{
  "nbformat": 4,
  "nbformat_minor": 0,
  "metadata": {
    "colab": {
      "provenance": [],
      "mount_file_id": "1CUV6gs9oksds3K527JA6KmhDG6Ijeroq",
      "authorship_tag": "ABX9TyNgsluga/B91V/OaVjABf2L",
      "include_colab_link": true
    },
    "kernelspec": {
      "name": "python3",
      "display_name": "Python 3"
    },
    "language_info": {
      "name": "python"
    }
  },
  "cells": [
    {
      "cell_type": "markdown",
      "metadata": {
        "id": "view-in-github",
        "colab_type": "text"
      },
      "source": [
        "<a href=\"https://colab.research.google.com/github/AwesomeDemoGuy/Sarcasm-Detector/blob/master/SarcasmDetection.ipynb\" target=\"_parent\"><img src=\"https://colab.research.google.com/assets/colab-badge.svg\" alt=\"Open In Colab\"/></a>"
      ]
    },
    {
      "cell_type": "code",
      "execution_count": null,
      "metadata": {
        "id": "wsMytJHVnOBx",
        "colab": {
          "base_uri": "https://localhost:8080/"
        },
        "outputId": "70646ece-c0c0-4346-e5c2-707d8a09a0e3"
      },
      "outputs": [
        {
          "output_type": "stream",
          "name": "stderr",
          "text": [
            "[nltk_data] Downloading package wordnet to /root/nltk_data...\n",
            "[nltk_data] Downloading package punkt to /root/nltk_data...\n",
            "[nltk_data]   Unzipping tokenizers/punkt.zip.\n"
          ]
        },
        {
          "output_type": "stream",
          "name": "stdout",
          "text": [
            "2023-04-12 06:03:11.408663: W tensorflow/compiler/tf2tensorrt/utils/py_utils.cc:38] TF-TRT Warning: Could not find TensorRT\n",
            "Looking in indexes: https://pypi.org/simple, https://us-python.pkg.dev/colab-wheels/public/simple/\n",
            "Collecting en-core-web-md==3.5.0\n",
            "  Downloading https://github.com/explosion/spacy-models/releases/download/en_core_web_md-3.5.0/en_core_web_md-3.5.0-py3-none-any.whl (42.8 MB)\n",
            "\u001b[2K     \u001b[90m━━━━━━━━━━━━━━━━━━━━━━━━━━━━━━━━━━━━━━━━\u001b[0m \u001b[32m42.8/42.8 MB\u001b[0m \u001b[31m19.0 MB/s\u001b[0m eta \u001b[36m0:00:00\u001b[0m\n",
            "\u001b[?25hRequirement already satisfied: spacy<3.6.0,>=3.5.0 in /usr/local/lib/python3.9/dist-packages (from en-core-web-md==3.5.0) (3.5.1)\n",
            "Requirement already satisfied: srsly<3.0.0,>=2.4.3 in /usr/local/lib/python3.9/dist-packages (from spacy<3.6.0,>=3.5.0->en-core-web-md==3.5.0) (2.4.6)\n",
            "Requirement already satisfied: pathy>=0.10.0 in /usr/local/lib/python3.9/dist-packages (from spacy<3.6.0,>=3.5.0->en-core-web-md==3.5.0) (0.10.1)\n",
            "Requirement already satisfied: pydantic!=1.8,!=1.8.1,<1.11.0,>=1.7.4 in /usr/local/lib/python3.9/dist-packages (from spacy<3.6.0,>=3.5.0->en-core-web-md==3.5.0) (1.10.7)\n",
            "Requirement already satisfied: requests<3.0.0,>=2.13.0 in /usr/local/lib/python3.9/dist-packages (from spacy<3.6.0,>=3.5.0->en-core-web-md==3.5.0) (2.27.1)\n",
            "Requirement already satisfied: tqdm<5.0.0,>=4.38.0 in /usr/local/lib/python3.9/dist-packages (from spacy<3.6.0,>=3.5.0->en-core-web-md==3.5.0) (4.65.0)\n",
            "Requirement already satisfied: cymem<2.1.0,>=2.0.2 in /usr/local/lib/python3.9/dist-packages (from spacy<3.6.0,>=3.5.0->en-core-web-md==3.5.0) (2.0.7)\n",
            "Requirement already satisfied: spacy-legacy<3.1.0,>=3.0.11 in /usr/local/lib/python3.9/dist-packages (from spacy<3.6.0,>=3.5.0->en-core-web-md==3.5.0) (3.0.12)\n",
            "Requirement already satisfied: spacy-loggers<2.0.0,>=1.0.0 in /usr/local/lib/python3.9/dist-packages (from spacy<3.6.0,>=3.5.0->en-core-web-md==3.5.0) (1.0.4)\n",
            "Requirement already satisfied: packaging>=20.0 in /usr/local/lib/python3.9/dist-packages (from spacy<3.6.0,>=3.5.0->en-core-web-md==3.5.0) (23.0)\n",
            "Requirement already satisfied: jinja2 in /usr/local/lib/python3.9/dist-packages (from spacy<3.6.0,>=3.5.0->en-core-web-md==3.5.0) (3.1.2)\n",
            "Requirement already satisfied: wasabi<1.2.0,>=0.9.1 in /usr/local/lib/python3.9/dist-packages (from spacy<3.6.0,>=3.5.0->en-core-web-md==3.5.0) (1.1.1)\n",
            "Requirement already satisfied: preshed<3.1.0,>=3.0.2 in /usr/local/lib/python3.9/dist-packages (from spacy<3.6.0,>=3.5.0->en-core-web-md==3.5.0) (3.0.8)\n",
            "Requirement already satisfied: thinc<8.2.0,>=8.1.8 in /usr/local/lib/python3.9/dist-packages (from spacy<3.6.0,>=3.5.0->en-core-web-md==3.5.0) (8.1.9)\n",
            "Requirement already satisfied: catalogue<2.1.0,>=2.0.6 in /usr/local/lib/python3.9/dist-packages (from spacy<3.6.0,>=3.5.0->en-core-web-md==3.5.0) (2.0.8)\n",
            "Requirement already satisfied: typer<0.8.0,>=0.3.0 in /usr/local/lib/python3.9/dist-packages (from spacy<3.6.0,>=3.5.0->en-core-web-md==3.5.0) (0.7.0)\n",
            "Requirement already satisfied: numpy>=1.15.0 in /usr/local/lib/python3.9/dist-packages (from spacy<3.6.0,>=3.5.0->en-core-web-md==3.5.0) (1.22.4)\n",
            "Requirement already satisfied: smart-open<7.0.0,>=5.2.1 in /usr/local/lib/python3.9/dist-packages (from spacy<3.6.0,>=3.5.0->en-core-web-md==3.5.0) (6.3.0)\n",
            "Requirement already satisfied: setuptools in /usr/local/lib/python3.9/dist-packages (from spacy<3.6.0,>=3.5.0->en-core-web-md==3.5.0) (67.6.1)\n",
            "Requirement already satisfied: murmurhash<1.1.0,>=0.28.0 in /usr/local/lib/python3.9/dist-packages (from spacy<3.6.0,>=3.5.0->en-core-web-md==3.5.0) (1.0.9)\n",
            "Requirement already satisfied: langcodes<4.0.0,>=3.2.0 in /usr/local/lib/python3.9/dist-packages (from spacy<3.6.0,>=3.5.0->en-core-web-md==3.5.0) (3.3.0)\n",
            "Requirement already satisfied: typing-extensions>=4.2.0 in /usr/local/lib/python3.9/dist-packages (from pydantic!=1.8,!=1.8.1,<1.11.0,>=1.7.4->spacy<3.6.0,>=3.5.0->en-core-web-md==3.5.0) (4.5.0)\n",
            "Requirement already satisfied: charset-normalizer~=2.0.0 in /usr/local/lib/python3.9/dist-packages (from requests<3.0.0,>=2.13.0->spacy<3.6.0,>=3.5.0->en-core-web-md==3.5.0) (2.0.12)\n",
            "Requirement already satisfied: idna<4,>=2.5 in /usr/local/lib/python3.9/dist-packages (from requests<3.0.0,>=2.13.0->spacy<3.6.0,>=3.5.0->en-core-web-md==3.5.0) (3.4)\n",
            "Requirement already satisfied: certifi>=2017.4.17 in /usr/local/lib/python3.9/dist-packages (from requests<3.0.0,>=2.13.0->spacy<3.6.0,>=3.5.0->en-core-web-md==3.5.0) (2022.12.7)\n",
            "Requirement already satisfied: urllib3<1.27,>=1.21.1 in /usr/local/lib/python3.9/dist-packages (from requests<3.0.0,>=2.13.0->spacy<3.6.0,>=3.5.0->en-core-web-md==3.5.0) (1.26.15)\n",
            "Requirement already satisfied: confection<1.0.0,>=0.0.1 in /usr/local/lib/python3.9/dist-packages (from thinc<8.2.0,>=8.1.8->spacy<3.6.0,>=3.5.0->en-core-web-md==3.5.0) (0.0.4)\n",
            "Requirement already satisfied: blis<0.8.0,>=0.7.8 in /usr/local/lib/python3.9/dist-packages (from thinc<8.2.0,>=8.1.8->spacy<3.6.0,>=3.5.0->en-core-web-md==3.5.0) (0.7.9)\n",
            "Requirement already satisfied: click<9.0.0,>=7.1.1 in /usr/local/lib/python3.9/dist-packages (from typer<0.8.0,>=0.3.0->spacy<3.6.0,>=3.5.0->en-core-web-md==3.5.0) (8.1.3)\n",
            "Requirement already satisfied: MarkupSafe>=2.0 in /usr/local/lib/python3.9/dist-packages (from jinja2->spacy<3.6.0,>=3.5.0->en-core-web-md==3.5.0) (2.1.2)\n",
            "Installing collected packages: en-core-web-md\n",
            "Successfully installed en-core-web-md-3.5.0\n",
            "\u001b[38;5;2m✔ Download and installation successful\u001b[0m\n",
            "You can now load the package via spacy.load('en_core_web_md')\n"
          ]
        }
      ],
      "source": [
        "file_path = \"drive/MyDrive/Sarcasm_Headlines_Dataset.json\"\n",
        "\n",
        "import pandas as pd   # Great for tables (google spreadsheets, microsoft excel, csv). \n",
        "import numpy as np\n",
        "import matplotlib.pyplot as plt\n",
        "import seaborn as sns\n",
        "import string\n",
        "import nltk\n",
        "import spacy\n",
        "import wordcloud\n",
        "import os # Good for navigating your computer's files \n",
        "import sys\n",
        "pd.options.mode.chained_assignment = None #suppress warnings\n",
        "\n",
        "from nltk.corpus import stopwords\n",
        "from nltk.stem import WordNetLemmatizer\n",
        "from nltk.corpus import stopwords\n",
        "from nltk.tokenize import word_tokenize\n",
        "from spacy.lang.en.stop_words import STOP_WORDS\n",
        "nltk.download('wordnet')\n",
        "nltk.download('punkt')\n",
        "\n",
        "from wordcloud import WordCloud\n",
        "import matplotlib.pyplot as plt\n",
        "from sklearn.feature_extraction.text import CountVectorizer\n",
        "from sklearn.model_selection import train_test_split\n",
        "from sklearn.linear_model import LogisticRegression\n",
        "from sklearn.metrics import confusion_matrix, classification_report\n",
        "from sklearn.metrics import accuracy_score\n",
        "!python -m spacy download en_core_web_md\n",
        "import en_core_web_md\n",
        "text_to_nlp = en_core_web_md.load()\n",
        "from sklearn.metrics import ConfusionMatrixDisplay\n",
        "#from fast_ml.model_development import train_valid_test_split"
      ]
    },
    {
      "cell_type": "code",
      "source": [
        "from keras.models import Sequential\n",
        "from keras.layers import Dense, Dropout, Activation"
      ],
      "metadata": {
        "id": "woGMaUa8JA-n"
      },
      "execution_count": null,
      "outputs": []
    },
    {
      "cell_type": "code",
      "source": [
        "df = pd.read_json (file_path, lines = True)\n",
        "display(df)"
      ],
      "metadata": {
        "id": "B1r_uJj4nvlN",
        "colab": {
          "base_uri": "https://localhost:8080/",
          "height": 336
        },
        "outputId": "186b6221-e5f6-4ae2-adb5-97f2af39c690"
      },
      "execution_count": null,
      "outputs": [
        {
          "output_type": "error",
          "ename": "FileNotFoundError",
          "evalue": "ignored",
          "traceback": [
            "\u001b[0;31m---------------------------------------------------------------------------\u001b[0m",
            "\u001b[0;31mFileNotFoundError\u001b[0m                         Traceback (most recent call last)",
            "\u001b[0;32m<ipython-input-4-acff34ae0fb3>\u001b[0m in \u001b[0;36m<cell line: 1>\u001b[0;34m()\u001b[0m\n\u001b[0;32m----> 1\u001b[0;31m \u001b[0mdf\u001b[0m \u001b[0;34m=\u001b[0m \u001b[0mpd\u001b[0m\u001b[0;34m.\u001b[0m\u001b[0mread_json\u001b[0m \u001b[0;34m(\u001b[0m\u001b[0mfile_path\u001b[0m\u001b[0;34m,\u001b[0m \u001b[0mlines\u001b[0m \u001b[0;34m=\u001b[0m \u001b[0;32mTrue\u001b[0m\u001b[0;34m)\u001b[0m\u001b[0;34m\u001b[0m\u001b[0;34m\u001b[0m\u001b[0m\n\u001b[0m\u001b[1;32m      2\u001b[0m \u001b[0mdisplay\u001b[0m\u001b[0;34m(\u001b[0m\u001b[0mdf\u001b[0m\u001b[0;34m)\u001b[0m\u001b[0;34m\u001b[0m\u001b[0;34m\u001b[0m\u001b[0m\n",
            "\u001b[0;32m/usr/local/lib/python3.9/dist-packages/pandas/util/_decorators.py\u001b[0m in \u001b[0;36mwrapper\u001b[0;34m(*args, **kwargs)\u001b[0m\n\u001b[1;32m    209\u001b[0m                 \u001b[0;32melse\u001b[0m\u001b[0;34m:\u001b[0m\u001b[0;34m\u001b[0m\u001b[0;34m\u001b[0m\u001b[0m\n\u001b[1;32m    210\u001b[0m                     \u001b[0mkwargs\u001b[0m\u001b[0;34m[\u001b[0m\u001b[0mnew_arg_name\u001b[0m\u001b[0;34m]\u001b[0m \u001b[0;34m=\u001b[0m \u001b[0mnew_arg_value\u001b[0m\u001b[0;34m\u001b[0m\u001b[0;34m\u001b[0m\u001b[0m\n\u001b[0;32m--> 211\u001b[0;31m             \u001b[0;32mreturn\u001b[0m \u001b[0mfunc\u001b[0m\u001b[0;34m(\u001b[0m\u001b[0;34m*\u001b[0m\u001b[0margs\u001b[0m\u001b[0;34m,\u001b[0m \u001b[0;34m**\u001b[0m\u001b[0mkwargs\u001b[0m\u001b[0;34m)\u001b[0m\u001b[0;34m\u001b[0m\u001b[0;34m\u001b[0m\u001b[0m\n\u001b[0m\u001b[1;32m    212\u001b[0m \u001b[0;34m\u001b[0m\u001b[0m\n\u001b[1;32m    213\u001b[0m         \u001b[0;32mreturn\u001b[0m \u001b[0mcast\u001b[0m\u001b[0;34m(\u001b[0m\u001b[0mF\u001b[0m\u001b[0;34m,\u001b[0m \u001b[0mwrapper\u001b[0m\u001b[0;34m)\u001b[0m\u001b[0;34m\u001b[0m\u001b[0;34m\u001b[0m\u001b[0m\n",
            "\u001b[0;32m/usr/local/lib/python3.9/dist-packages/pandas/util/_decorators.py\u001b[0m in \u001b[0;36mwrapper\u001b[0;34m(*args, **kwargs)\u001b[0m\n\u001b[1;32m    329\u001b[0m                     \u001b[0mstacklevel\u001b[0m\u001b[0;34m=\u001b[0m\u001b[0mfind_stack_level\u001b[0m\u001b[0;34m(\u001b[0m\u001b[0;34m)\u001b[0m\u001b[0;34m,\u001b[0m\u001b[0;34m\u001b[0m\u001b[0;34m\u001b[0m\u001b[0m\n\u001b[1;32m    330\u001b[0m                 )\n\u001b[0;32m--> 331\u001b[0;31m             \u001b[0;32mreturn\u001b[0m \u001b[0mfunc\u001b[0m\u001b[0;34m(\u001b[0m\u001b[0;34m*\u001b[0m\u001b[0margs\u001b[0m\u001b[0;34m,\u001b[0m \u001b[0;34m**\u001b[0m\u001b[0mkwargs\u001b[0m\u001b[0;34m)\u001b[0m\u001b[0;34m\u001b[0m\u001b[0;34m\u001b[0m\u001b[0m\n\u001b[0m\u001b[1;32m    332\u001b[0m \u001b[0;34m\u001b[0m\u001b[0m\n\u001b[1;32m    333\u001b[0m         \u001b[0;31m# error: \"Callable[[VarArg(Any), KwArg(Any)], Any]\" has no\u001b[0m\u001b[0;34m\u001b[0m\u001b[0;34m\u001b[0m\u001b[0m\n",
            "\u001b[0;32m/usr/local/lib/python3.9/dist-packages/pandas/io/json/_json.py\u001b[0m in \u001b[0;36mread_json\u001b[0;34m(path_or_buf, orient, typ, dtype, convert_axes, convert_dates, keep_default_dates, numpy, precise_float, date_unit, encoding, encoding_errors, lines, chunksize, compression, nrows, storage_options)\u001b[0m\n\u001b[1;32m    731\u001b[0m         \u001b[0mconvert_axes\u001b[0m \u001b[0;34m=\u001b[0m \u001b[0;32mTrue\u001b[0m\u001b[0;34m\u001b[0m\u001b[0;34m\u001b[0m\u001b[0m\n\u001b[1;32m    732\u001b[0m \u001b[0;34m\u001b[0m\u001b[0m\n\u001b[0;32m--> 733\u001b[0;31m     json_reader = JsonReader(\n\u001b[0m\u001b[1;32m    734\u001b[0m         \u001b[0mpath_or_buf\u001b[0m\u001b[0;34m,\u001b[0m\u001b[0;34m\u001b[0m\u001b[0;34m\u001b[0m\u001b[0m\n\u001b[1;32m    735\u001b[0m         \u001b[0morient\u001b[0m\u001b[0;34m=\u001b[0m\u001b[0morient\u001b[0m\u001b[0;34m,\u001b[0m\u001b[0;34m\u001b[0m\u001b[0;34m\u001b[0m\u001b[0m\n",
            "\u001b[0;32m/usr/local/lib/python3.9/dist-packages/pandas/io/json/_json.py\u001b[0m in \u001b[0;36m__init__\u001b[0;34m(self, filepath_or_buffer, orient, typ, dtype, convert_axes, convert_dates, keep_default_dates, numpy, precise_float, date_unit, encoding, lines, chunksize, compression, nrows, storage_options, encoding_errors)\u001b[0m\n\u001b[1;32m    816\u001b[0m                 \u001b[0;32mraise\u001b[0m \u001b[0mValueError\u001b[0m\u001b[0;34m(\u001b[0m\u001b[0;34m\"nrows can only be passed if lines=True\"\u001b[0m\u001b[0;34m)\u001b[0m\u001b[0;34m\u001b[0m\u001b[0;34m\u001b[0m\u001b[0m\n\u001b[1;32m    817\u001b[0m \u001b[0;34m\u001b[0m\u001b[0m\n\u001b[0;32m--> 818\u001b[0;31m         \u001b[0mdata\u001b[0m \u001b[0;34m=\u001b[0m \u001b[0mself\u001b[0m\u001b[0;34m.\u001b[0m\u001b[0m_get_data_from_filepath\u001b[0m\u001b[0;34m(\u001b[0m\u001b[0mfilepath_or_buffer\u001b[0m\u001b[0;34m)\u001b[0m\u001b[0;34m\u001b[0m\u001b[0;34m\u001b[0m\u001b[0m\n\u001b[0m\u001b[1;32m    819\u001b[0m         \u001b[0mself\u001b[0m\u001b[0;34m.\u001b[0m\u001b[0mdata\u001b[0m \u001b[0;34m=\u001b[0m \u001b[0mself\u001b[0m\u001b[0;34m.\u001b[0m\u001b[0m_preprocess_data\u001b[0m\u001b[0;34m(\u001b[0m\u001b[0mdata\u001b[0m\u001b[0;34m)\u001b[0m\u001b[0;34m\u001b[0m\u001b[0;34m\u001b[0m\u001b[0m\n\u001b[1;32m    820\u001b[0m \u001b[0;34m\u001b[0m\u001b[0m\n",
            "\u001b[0;32m/usr/local/lib/python3.9/dist-packages/pandas/io/json/_json.py\u001b[0m in \u001b[0;36m_get_data_from_filepath\u001b[0;34m(self, filepath_or_buffer)\u001b[0m\n\u001b[1;32m    872\u001b[0m             \u001b[0;32mand\u001b[0m \u001b[0;32mnot\u001b[0m \u001b[0mfile_exists\u001b[0m\u001b[0;34m(\u001b[0m\u001b[0mfilepath_or_buffer\u001b[0m\u001b[0;34m)\u001b[0m\u001b[0;34m\u001b[0m\u001b[0;34m\u001b[0m\u001b[0m\n\u001b[1;32m    873\u001b[0m         ):\n\u001b[0;32m--> 874\u001b[0;31m             \u001b[0;32mraise\u001b[0m \u001b[0mFileNotFoundError\u001b[0m\u001b[0;34m(\u001b[0m\u001b[0;34mf\"File {filepath_or_buffer} does not exist\"\u001b[0m\u001b[0;34m)\u001b[0m\u001b[0;34m\u001b[0m\u001b[0;34m\u001b[0m\u001b[0m\n\u001b[0m\u001b[1;32m    875\u001b[0m \u001b[0;34m\u001b[0m\u001b[0m\n\u001b[1;32m    876\u001b[0m         \u001b[0;32mreturn\u001b[0m \u001b[0mfilepath_or_buffer\u001b[0m\u001b[0;34m\u001b[0m\u001b[0;34m\u001b[0m\u001b[0m\n",
            "\u001b[0;31mFileNotFoundError\u001b[0m: File drive/MyDrive/Sarcasm_Headlines_Dataset.json does not exist"
          ]
        }
      ]
    },
    {
      "cell_type": "code",
      "source": [
        "X = df[\"headline\"]\n",
        "y = df[\"is_sarcastic\"]"
      ],
      "metadata": {
        "id": "pTetk4uSrQnI"
      },
      "execution_count": null,
      "outputs": []
    },
    {
      "cell_type": "code",
      "source": [
        "X_sample = df['headline'].sample(5000)\n",
        "y_sample = y[X_sample.index]\n",
        "display(X_sample)"
      ],
      "metadata": {
        "colab": {
          "base_uri": "https://localhost:8080/",
          "height": 231
        },
        "id": "UhANL4ATE_DQ",
        "outputId": "677d313c-05f5-40e0-e3c0-de7ff8cad1cc"
      },
      "execution_count": null,
      "outputs": [
        {
          "output_type": "display_data",
          "data": {
            "text/plain": [
              "25564    on the road to term 4, jerry brown dispenses w...\n",
              "18211                                     man use big word\n",
              "11531    teen weed users may face high risk for dependence\n",
              "15554    chris tucker to focus attention on smaller, mo...\n",
              "19080    betsy devos chooses to spotlight a problematic...\n",
              "                               ...                        \n",
              "419                 taylor swift now dating watertown boat\n",
              "22152    whales beach selves in attempt to purchase 'th...\n",
              "24933    gchat status disastrously left on visible duri...\n",
              "15006    taylor swift enters alternate universe to date...\n",
              "10669    this type of breast cancer is more deadly for ...\n",
              "Name: headline, Length: 5000, dtype: object"
            ]
          },
          "metadata": {}
        }
      ]
    },
    {
      "cell_type": "code",
      "source": [
        "\n",
        "def tokenize(text):\n",
        "    clean_tokens = []\n",
        "    for token in text_to_nlp(text):\n",
        "\n",
        "        #if (not token.is_stop) & (token.lemma_ != '-PRON-') & (not token.is_punct): # -PRON- is a special all inclusive \"lemma\" spaCy uses for any pronoun, we want to exclude these \n",
        "        clean_tokens.append(token.lemma_)\n",
        "      \n",
        "    return clean_tokens\n"
      ],
      "metadata": {
        "id": "mWy6Lt1wrkjN"
      },
      "execution_count": null,
      "outputs": []
    },
    {
      "cell_type": "code",
      "source": [
        "bow_transformer = CountVectorizer(analyzer=tokenize, max_features=400).fit(X_sample)"
      ],
      "metadata": {
        "id": "Bl0kNEoCrzID"
      },
      "execution_count": null,
      "outputs": []
    },
    {
      "cell_type": "code",
      "source": [
        "bow_transformer.vocabulary_"
      ],
      "metadata": {
        "id": "U-nHuULVsJN8"
      },
      "execution_count": null,
      "outputs": []
    },
    {
      "cell_type": "code",
      "source": [
        "X_vec = bow_transformer.transform(X_sample)"
      ],
      "metadata": {
        "id": "C9nAb12TtWal"
      },
      "execution_count": null,
      "outputs": []
    },
    {
      "cell_type": "code",
      "source": [
        "pd.DataFrame(X_vec.toarray())"
      ],
      "metadata": {
        "id": "HUPcZF8SullO"
      },
      "execution_count": null,
      "outputs": []
    },
    {
      "cell_type": "code",
      "source": [
        "X_train, X_test, y_train, y_test = train_test_split(X_vec, y_sample, test_size = 0.2, random_state = 101)"
      ],
      "metadata": {
        "id": "H6Eeel9mu3dp"
      },
      "execution_count": null,
      "outputs": []
    },
    {
      "cell_type": "code",
      "source": [
        "logistic_model = LogisticRegression()"
      ],
      "metadata": {
        "id": "aFgxQ_wxvTZ9"
      },
      "execution_count": null,
      "outputs": []
    },
    {
      "cell_type": "code",
      "source": [
        "logistic_model.fit(X_train, y_train)\n",
        "y_pred = logistic_model.predict(X_test)\n",
        "accuracy = accuracy_score(y_test, y_pred)\n",
        "print (accuracy)"
      ],
      "metadata": {
        "colab": {
          "base_uri": "https://localhost:8080/"
        },
        "id": "mupnexr_v6hp",
        "outputId": "b1ef9a31-d75d-44fe-97ca-e47839d3ee50"
      },
      "execution_count": null,
      "outputs": [
        {
          "output_type": "stream",
          "name": "stdout",
          "text": [
            "0.784\n"
          ]
        }
      ]
    },
    {
      "cell_type": "code",
      "source": [
        "c_matrix = confusion_matrix(y_test, y_pred)\n",
        "c_display = ConfusionMatrixDisplay(c_matrix, display_labels = ['sarcasm', \"not_sarcastic\"])\n",
        "c_display.plot()\n",
        "plt.show()"
      ],
      "metadata": {
        "colab": {
          "base_uri": "https://localhost:8080/",
          "height": 280
        },
        "id": "wRcqcdndGj5R",
        "outputId": "f7fc758a-881b-45d3-dce2-6625d7b9c7f3"
      },
      "execution_count": null,
      "outputs": [
        {
          "output_type": "display_data",
          "data": {
            "text/plain": [
              "<Figure size 432x288 with 2 Axes>"
            ],
            "image/png": "[encoded data removed]"
          },
          "metadata": {
            "needs_background": "light"
          }
        }
      ]
    },
    {
      "cell_type": "code",
      "source": [
        "import tensorflow as tf\n",
        "X_vec = X_vec.toarray()\n",
        "print(X_vec)"
      ],
      "metadata": {
        "colab": {
          "base_uri": "https://localhost:8080/"
        },
        "id": "h742RCMBJrQJ",
        "outputId": "a6f9153b-3180-4a6f-e388-7329df4bab94"
      },
      "execution_count": null,
      "outputs": [
        {
          "output_type": "stream",
          "name": "stdout",
          "text": [
            "[[0 0 0 ... 0 0 0]\n",
            " [0 0 0 ... 0 0 0]\n",
            " [0 0 0 ... 0 0 0]\n",
            " ...\n",
            " [0 0 0 ... 0 0 0]\n",
            " [0 0 0 ... 0 0 0]\n",
            " [0 0 0 ... 0 0 0]]\n"
          ]
        }
      ]
    },
    {
      "cell_type": "code",
      "source": [
        "X_train, X_test, y_train, y_test = train_test_split(X_vec, y_sample, test_size = 0.2, random_state = 101)\n",
        "X_valid, X_test, y_valid, y_test= train_test_split(X_test, y_test, test_size = 0.5)"
      ],
      "metadata": {
        "id": "hsXu4sKdO3yP"
      },
      "execution_count": null,
      "outputs": []
    },
    {
      "cell_type": "code",
      "source": [
        "X_valid.shape"
      ],
      "metadata": {
        "colab": {
          "base_uri": "https://localhost:8080/"
        },
        "id": "o1SUPMs2z8zh",
        "outputId": "6d365629-1801-4a9d-af21-cb0bfda7e7d1"
      },
      "execution_count": null,
      "outputs": [
        {
          "output_type": "execute_result",
          "data": {
            "text/plain": [
              "(500, 400)"
            ]
          },
          "metadata": {},
          "execution_count": 25
        }
      ]
    },
    {
      "cell_type": "code",
      "source": [
        "model = Sequential()\n",
        "model.add(Dense(100, input_dim = 400, activation = \"relu\"))\n",
        "model.add(Dense(100, activation = \"relu\"))\n",
        "model.add(Dense(100, activation = \"relu\"))\n",
        "model.add(Dense(100, activation = \"relu\"))\n",
        "model.add(Dense(1, activation =\"sigmoid\"))\n",
        "# try huge layers"
      ],
      "metadata": {
        "id": "x2Gf1YsTGrx6"
      },
      "execution_count": null,
      "outputs": []
    },
    {
      "cell_type": "code",
      "source": [
        "print(X_train.shape)"
      ],
      "metadata": {
        "colab": {
          "base_uri": "https://localhost:8080/"
        },
        "id": "KiRNUsXfMxbv",
        "outputId": "aeee2a73-ed6b-4094-aeed-aa42650577fe"
      },
      "execution_count": null,
      "outputs": [
        {
          "output_type": "stream",
          "name": "stdout",
          "text": [
            "(4000, 400)\n"
          ]
        }
      ]
    },
    {
      "cell_type": "code",
      "source": [
        "model.compile(loss='binary_crossentropy', optimizer='adam', metrics=['accuracy'])"
      ],
      "metadata": {
        "id": "_22U9re6LEiI"
      },
      "execution_count": null,
      "outputs": []
    },
    {
      "cell_type": "code",
      "source": [
        "validation_data = (X_valid, y_valid)\n",
        "history = model.fit(X_train, y_train, validation_data = validation_data, epochs = 50)"
      ],
      "metadata": {
        "colab": {
          "base_uri": "https://localhost:8080/"
        },
        "id": "E4FAX9DFMGuj",
        "outputId": "5573d19a-1302-4773-9fa2-4276fa7e3734"
      },
      "execution_count": null,
      "outputs": [
        {
          "output_type": "stream",
          "name": "stdout",
          "text": [
            "Epoch 1/50\n",
            "125/125 [==============================] - 3s 10ms/step - loss: 0.5631 - accuracy: 0.6960 - val_loss: 0.4775 - val_accuracy: 0.7660\n",
            "Epoch 2/50\n",
            "125/125 [==============================] - 1s 10ms/step - loss: 0.4011 - accuracy: 0.8232 - val_loss: 0.4513 - val_accuracy: 0.7780\n",
            "Epoch 3/50\n",
            "125/125 [==============================] - 2s 12ms/step - loss: 0.3123 - accuracy: 0.8675 - val_loss: 0.5048 - val_accuracy: 0.7680\n",
            "Epoch 4/50\n",
            "125/125 [==============================] - 1s 8ms/step - loss: 0.2180 - accuracy: 0.9122 - val_loss: 0.6215 - val_accuracy: 0.7660\n",
            "Epoch 5/50\n",
            "125/125 [==============================] - 1s 8ms/step - loss: 0.1447 - accuracy: 0.9448 - val_loss: 0.7405 - val_accuracy: 0.7600\n",
            "Epoch 6/50\n",
            "125/125 [==============================] - 1s 7ms/step - loss: 0.0943 - accuracy: 0.9645 - val_loss: 0.8705 - val_accuracy: 0.7740\n",
            "Epoch 7/50\n",
            "125/125 [==============================] - 1s 7ms/step - loss: 0.0614 - accuracy: 0.9735 - val_loss: 1.0108 - val_accuracy: 0.7520\n",
            "Epoch 8/50\n",
            "125/125 [==============================] - 1s 10ms/step - loss: 0.0503 - accuracy: 0.9833 - val_loss: 1.1732 - val_accuracy: 0.7560\n",
            "Epoch 9/50\n",
            "125/125 [==============================] - 0s 4ms/step - loss: 0.0400 - accuracy: 0.9830 - val_loss: 1.2840 - val_accuracy: 0.7520\n",
            "Epoch 10/50\n",
            "125/125 [==============================] - 1s 4ms/step - loss: 0.0339 - accuracy: 0.9852 - val_loss: 1.4145 - val_accuracy: 0.7360\n",
            "Epoch 11/50\n",
            "125/125 [==============================] - 1s 4ms/step - loss: 0.0299 - accuracy: 0.9862 - val_loss: 1.4830 - val_accuracy: 0.7500\n",
            "Epoch 12/50\n",
            "125/125 [==============================] - 1s 4ms/step - loss: 0.0279 - accuracy: 0.9877 - val_loss: 1.5457 - val_accuracy: 0.7660\n",
            "Epoch 13/50\n",
            "125/125 [==============================] - 0s 4ms/step - loss: 0.0284 - accuracy: 0.9885 - val_loss: 1.3945 - val_accuracy: 0.7580\n",
            "Epoch 14/50\n",
            "125/125 [==============================] - 0s 4ms/step - loss: 0.0244 - accuracy: 0.9887 - val_loss: 1.5594 - val_accuracy: 0.7580\n",
            "Epoch 15/50\n",
            "125/125 [==============================] - 1s 4ms/step - loss: 0.0286 - accuracy: 0.9875 - val_loss: 1.6305 - val_accuracy: 0.7580\n",
            "Epoch 16/50\n",
            "125/125 [==============================] - 1s 4ms/step - loss: 0.0388 - accuracy: 0.9837 - val_loss: 1.5927 - val_accuracy: 0.7800\n",
            "Epoch 17/50\n",
            "125/125 [==============================] - 1s 4ms/step - loss: 0.0724 - accuracy: 0.9740 - val_loss: 1.1088 - val_accuracy: 0.7620\n",
            "Epoch 18/50\n",
            "125/125 [==============================] - 1s 5ms/step - loss: 0.0382 - accuracy: 0.9830 - val_loss: 1.4510 - val_accuracy: 0.7620\n",
            "Epoch 19/50\n",
            "125/125 [==============================] - 0s 4ms/step - loss: 0.0270 - accuracy: 0.9885 - val_loss: 1.6652 - val_accuracy: 0.7440\n",
            "Epoch 20/50\n",
            "125/125 [==============================] - 1s 4ms/step - loss: 0.0311 - accuracy: 0.9862 - val_loss: 1.5185 - val_accuracy: 0.7560\n",
            "Epoch 21/50\n",
            "125/125 [==============================] - 0s 4ms/step - loss: 0.0225 - accuracy: 0.9895 - val_loss: 1.6003 - val_accuracy: 0.7380\n",
            "Epoch 22/50\n",
            "125/125 [==============================] - 1s 4ms/step - loss: 0.0191 - accuracy: 0.9905 - val_loss: 1.7867 - val_accuracy: 0.7500\n",
            "Epoch 23/50\n",
            "125/125 [==============================] - 1s 5ms/step - loss: 0.0184 - accuracy: 0.9908 - val_loss: 1.7729 - val_accuracy: 0.7560\n",
            "Epoch 24/50\n",
            "125/125 [==============================] - 1s 4ms/step - loss: 0.0186 - accuracy: 0.9900 - val_loss: 1.8039 - val_accuracy: 0.7540\n",
            "Epoch 25/50\n",
            "125/125 [==============================] - 1s 4ms/step - loss: 0.0230 - accuracy: 0.9902 - val_loss: 2.2953 - val_accuracy: 0.7240\n",
            "Epoch 26/50\n",
            "125/125 [==============================] - 0s 4ms/step - loss: 0.0454 - accuracy: 0.9825 - val_loss: 1.5163 - val_accuracy: 0.7620\n",
            "Epoch 27/50\n",
            "125/125 [==============================] - 1s 4ms/step - loss: 0.0249 - accuracy: 0.9887 - val_loss: 1.6209 - val_accuracy: 0.7680\n",
            "Epoch 28/50\n",
            "125/125 [==============================] - 0s 4ms/step - loss: 0.0195 - accuracy: 0.9900 - val_loss: 1.9510 - val_accuracy: 0.7500\n",
            "Epoch 29/50\n",
            "125/125 [==============================] - 1s 4ms/step - loss: 0.0212 - accuracy: 0.9910 - val_loss: 1.7771 - val_accuracy: 0.7640\n",
            "Epoch 30/50\n",
            "125/125 [==============================] - 0s 4ms/step - loss: 0.0170 - accuracy: 0.9912 - val_loss: 1.8930 - val_accuracy: 0.7640\n",
            "Epoch 31/50\n",
            "125/125 [==============================] - 1s 4ms/step - loss: 0.0166 - accuracy: 0.9918 - val_loss: 1.9426 - val_accuracy: 0.7680\n",
            "Epoch 32/50\n",
            "125/125 [==============================] - 1s 4ms/step - loss: 0.0167 - accuracy: 0.9915 - val_loss: 1.9328 - val_accuracy: 0.7580\n",
            "Epoch 33/50\n",
            "125/125 [==============================] - 0s 4ms/step - loss: 0.0167 - accuracy: 0.9912 - val_loss: 2.1020 - val_accuracy: 0.7720\n",
            "Epoch 34/50\n",
            "125/125 [==============================] - 1s 4ms/step - loss: 0.0170 - accuracy: 0.9910 - val_loss: 2.0562 - val_accuracy: 0.7680\n",
            "Epoch 35/50\n",
            "125/125 [==============================] - 0s 4ms/step - loss: 0.0158 - accuracy: 0.9915 - val_loss: 2.3105 - val_accuracy: 0.7620\n",
            "Epoch 36/50\n",
            "125/125 [==============================] - 1s 4ms/step - loss: 0.0164 - accuracy: 0.9918 - val_loss: 2.1837 - val_accuracy: 0.7620\n",
            "Epoch 37/50\n",
            "125/125 [==============================] - 1s 4ms/step - loss: 0.0160 - accuracy: 0.9915 - val_loss: 2.3361 - val_accuracy: 0.7640\n",
            "Epoch 38/50\n",
            "125/125 [==============================] - 1s 4ms/step - loss: 0.0160 - accuracy: 0.9908 - val_loss: 2.3001 - val_accuracy: 0.7740\n",
            "Epoch 39/50\n",
            "125/125 [==============================] - 0s 4ms/step - loss: 0.0154 - accuracy: 0.9915 - val_loss: 2.5184 - val_accuracy: 0.7660\n",
            "Epoch 40/50\n",
            "125/125 [==============================] - 0s 4ms/step - loss: 0.0158 - accuracy: 0.9918 - val_loss: 2.4531 - val_accuracy: 0.7700\n",
            "Epoch 41/50\n",
            "125/125 [==============================] - 0s 4ms/step - loss: 0.0158 - accuracy: 0.9918 - val_loss: 2.3390 - val_accuracy: 0.7620\n",
            "Epoch 42/50\n",
            "125/125 [==============================] - 1s 4ms/step - loss: 0.0156 - accuracy: 0.9918 - val_loss: 2.5421 - val_accuracy: 0.7640\n",
            "Epoch 43/50\n",
            "125/125 [==============================] - 1s 4ms/step - loss: 0.0158 - accuracy: 0.9918 - val_loss: 2.5537 - val_accuracy: 0.7680\n",
            "Epoch 44/50\n",
            "125/125 [==============================] - 1s 4ms/step - loss: 0.0158 - accuracy: 0.9912 - val_loss: 2.5106 - val_accuracy: 0.7680\n",
            "Epoch 45/50\n",
            "125/125 [==============================] - 0s 4ms/step - loss: 0.0157 - accuracy: 0.9912 - val_loss: 2.5757 - val_accuracy: 0.7680\n",
            "Epoch 46/50\n",
            "125/125 [==============================] - 1s 4ms/step - loss: 0.0155 - accuracy: 0.9918 - val_loss: 2.6541 - val_accuracy: 0.7620\n",
            "Epoch 47/50\n",
            "125/125 [==============================] - 1s 4ms/step - loss: 0.0159 - accuracy: 0.9918 - val_loss: 2.4979 - val_accuracy: 0.7620\n",
            "Epoch 48/50\n",
            "125/125 [==============================] - 1s 4ms/step - loss: 0.0155 - accuracy: 0.9918 - val_loss: 2.6270 - val_accuracy: 0.7640\n",
            "Epoch 49/50\n",
            "125/125 [==============================] - 1s 4ms/step - loss: 0.0155 - accuracy: 0.9918 - val_loss: 2.7460 - val_accuracy: 0.7660\n",
            "Epoch 50/50\n",
            "125/125 [==============================] - 1s 7ms/step - loss: 0.0155 - accuracy: 0.9920 - val_loss: 2.6602 - val_accuracy: 0.7460\n"
          ]
        }
      ]
    },
    {
      "cell_type": "code",
      "source": [
        "accuracy_score = model.evaluate(X_test, y_test)\n",
        "print(accuracy_score)"
      ],
      "metadata": {
        "colab": {
          "base_uri": "https://localhost:8080/"
        },
        "id": "6cXp0w8nPH5q",
        "outputId": "7cf05c52-6a8e-418c-9ea4-af8a76e2961e"
      },
      "execution_count": null,
      "outputs": [
        {
          "output_type": "stream",
          "name": "stdout",
          "text": [
            "16/16 [==============================] - 0s 2ms/step - loss: 2.9028 - accuracy: 0.7500\n",
            "[2.902817726135254, 0.75]\n"
          ]
        }
      ]
    },
    {
      "cell_type": "code",
      "source": [
        "def plot_acc(history, ax = None, xlabel = 'Epoch #'):\n",
        "\n",
        "    if hasattr(history, 'history_'):\n",
        "      history = history.history_\n",
        "    else:\n",
        "      history = history.history\n",
        "    history.update({'epoch':list(range(len(history['val_accuracy'])))})\n",
        "    history = pd.DataFrame.from_dict(history)\n",
        "\n",
        "    best_epoch = history.sort_values(by = 'val_accuracy', ascending = False).iloc[0]['epoch']\n",
        "\n",
        "    if not ax:\n",
        "      f, ax = plt.subplots(1,1)\n",
        "    sns.lineplot(x = 'epoch', y = 'val_accuracy', data = history, label = 'Validation', ax = ax)\n",
        "    sns.lineplot(x = 'epoch', y = 'accuracy', data = history, label = 'Training', ax = ax)\n",
        "    ax.axhline(0.5, linestyle = '--',color='red', label = 'Chance')\n",
        "    ax.axvline(x = best_epoch, linestyle = '--', color = 'green', label = 'Best Epoch')  \n",
        "    ax.legend(loc = 7)    \n",
        "    ax.set_ylim([0.4, 1])\n",
        "\n",
        "    ax.set_xlabel(xlabel)\n",
        "    ax.set_ylabel('Accuracy (Fraction)')"
      ],
      "metadata": {
        "id": "prE6yyc51UEV"
      },
      "execution_count": null,
      "outputs": []
    },
    {
      "cell_type": "code",
      "source": [
        "plot_acc(history)"
      ],
      "metadata": {
        "colab": {
          "base_uri": "https://localhost:8080/",
          "height": 283
        },
        "id": "eJrcBKc41dFX",
        "outputId": "ea63d112-f96b-4b67-ec1a-e03a058e3e39"
      },
      "execution_count": null,
      "outputs": [
        {
          "output_type": "display_data",
          "data": {
            "text/plain": [
              "<Figure size 432x288 with 1 Axes>"
            ],
            "image/png": "[encoded data removed]"
          },
          "metadata": {
            "needs_background": "light"
          }
        }
      ]
    },
    {
      "cell_type": "code",
      "source": [
        "def model_to_string(model):\n",
        "    import re\n",
        "    stringlist = []\n",
        "    model.summary(print_fn=lambda x: stringlist.append(x))\n",
        "    sms = \"\\n\".join(stringlist)\n",
        "    sms = re.sub('_\\d\\d\\d','', sms)\n",
        "    sms = re.sub('_\\d\\d','', sms)\n",
        "    sms = re.sub('_\\d','', sms)  \n",
        "    return sms"
      ],
      "metadata": {
        "id": "0fI7m-qc2TiH"
      },
      "execution_count": null,
      "outputs": []
    },
    {
      "cell_type": "code",
      "source": [
        "print(model_to_string(model))"
      ],
      "metadata": {
        "colab": {
          "base_uri": "https://localhost:8080/"
        },
        "id": "0hitmXH-2VDQ",
        "outputId": "c291c8ab-8b5d-4e4b-f4e7-7020248b647c"
      },
      "execution_count": null,
      "outputs": [
        {
          "output_type": "stream",
          "name": "stdout",
          "text": [
            "Model: \"sequential\"\n",
            "_________________________________________________________________\n",
            " Layer (type)                Output Shape              Param #   \n",
            "=================================================================\n",
            " dense (Dense)            (None, 20)                8020      \n",
            "                                                                 \n",
            " dense (Dense)            (None, 20)                420       \n",
            "                                                                 \n",
            " dense (Dense)            (None, 20)                420       \n",
            "                                                                 \n",
            " dense (Dense)            (None, 15)                315       \n",
            "                                                                 \n",
            " dense (Dense)            (None, 1)                 16        \n",
            "                                                                 \n",
            "=================================================================\n",
            "Total params: 9,191\n",
            "Trainable params: 9,191\n",
            "Non-trainable params: 0\n",
            "_________________________________________________________________\n"
          ]
        }
      ]
    },
    {
      "cell_type": "code",
      "source": [
        "y_pred = model.predict(X_test)\n",
        "new_y_pred = []\n",
        "for i in y_pred:\n",
        "  if i[0] > 0.5:\n",
        "    i = [1]\n",
        "  else:\n",
        "    i = [0]\n",
        "  new_y_pred.append(i)"
      ],
      "metadata": {
        "id": "sOPLAS8H3NtC"
      },
      "execution_count": null,
      "outputs": []
    },
    {
      "cell_type": "code",
      "source": [
        "c_matrix = confusion_matrix(y_test, new_y_pred)\n",
        "c_display = ConfusionMatrixDisplay(c_matrix, display_labels = ['sarcasm', \"not_sarcastic\"])\n",
        "c_display.plot()\n",
        "plt.show()"
      ],
      "metadata": {
        "colab": {
          "base_uri": "https://localhost:8080/",
          "height": 280
        },
        "id": "-Gy3BfkZ3Ls-",
        "outputId": "f290e769-3255-4dc3-fd49-09388e1c9d24"
      },
      "execution_count": null,
      "outputs": [
        {
          "output_type": "display_data",
          "data": {
            "text/plain": [
              "<Figure size 432x288 with 2 Axes>"
            ],
            "image/png": "[encoded data removed]"
          },
          "metadata": {
            "needs_background": "light"
          }
        }
      ]
    },
    {
      "cell_type": "code",
      "source": [
        "print(new_y_pred)"
      ],
      "metadata": {
        "colab": {
          "base_uri": "https://localhost:8080/"
        },
        "id": "fGEH2GKo3bDN",
        "outputId": "ae804972-75ba-46e5-f933-0242d18bb6ec"
      },
      "execution_count": null,
      "outputs": [
        {
          "output_type": "stream",
          "name": "stdout",
          "text": [
            "[[0], [0], [1], [0], [1], [1], [1], [0], [1], [0], [1], [0], [0], [1], [1], [0], [0], [0], [0], [0], [0], [1], [0], [1], [1], [1], [1], [0], [1], [1], [0], [0], [1], [0], [0], [1], [0], [0], [0], [0], [1], [0], [0], [1], [0], [0], [1], [0], [0], [0], [0], [0], [0], [0], [0], [1], [0], [1], [0], [0], [1], [1], [0], [1], [0], [0], [0], [0], [0], [1], [1], [0], [0], [0], [1], [0], [1], [0], [0], [0], [1], [0], [1], [0], [1], [0], [1], [1], [1], [0], [1], [0], [1], [0], [1], [1], [1], [0], [1], [1], [1], [1], [1], [0], [0], [1], [0], [1], [1], [1], [1], [0], [0], [0], [1], [0], [1], [0], [0], [0], [0], [0], [1], [0], [0], [0], [1], [0], [1], [0], [0], [1], [0], [0], [1], [0], [1], [0], [1], [1], [0], [0], [1], [0], [0], [1], [1], [0], [1], [0], [0], [0], [0], [0], [0], [0], [0], [0], [0], [1], [1], [1], [0], [1], [0], [0], [1], [1], [0], [1], [0], [0], [0], [1], [0], [0], [0], [0], [0], [0], [0], [1], [0], [0], [0], [0], [1], [0], [1], [0], [0], [1], [0], [1], [0], [0], [0], [0], [0], [0], [1], [0], [1], [0], [0], [0], [0], [1], [0], [1], [0], [1], [0], [1], [0], [1], [0], [0], [0], [1], [1], [1], [0], [1], [0], [1], [0], [0], [0], [0], [1], [0], [1], [0], [0], [1], [0], [0], [1], [1], [1], [1], [0], [0], [0], [0], [0], [0], [0], [0], [1], [0], [0], [0], [0], [0], [0], [1], [1], [0], [1], [0], [1], [1], [1], [0], [1], [0], [0], [1], [0], [1], [0], [0], [0], [1], [1], [0], [0], [0], [1], [0], [1], [1], [0], [0], [1], [1], [1], [0], [0], [1], [0], [0], [0], [0], [0], [0], [1], [1], [1], [0], [0], [0], [1], [0], [0], [1], [0], [0], [0], [0], [1], [1], [0], [1], [0], [1], [0], [0], [0], [1], [0], [0], [0], [1], [1], [1], [1], [0], [1], [1], [0], [0], [0], [0], [0], [1], [0], [1], [1], [1], [1], [0], [1], [1], [0], [0], [0], [0], [0], [0], [0], [1], [0], [0], [0], [0], [1], [0], [0], [0], [1], [1], [1], [1], [0], [0], [1], [1], [1], [0], [0], [0], [1], [1], [0], [1], [0], [1], [0], [1], [0], [0], [1], [1], [0], [1], [0], [1], [0], [1], [1], [1], [1], [0], [0], [1], [0], [0], [0], [0], [0], [1], [0], [1], [1], [1], [1], [1], [0], [1], [1], [0], [1], [1], [0], [0], [0], [0], [1], [1], [1], [1], [0], [1], [0], [0], [0], [0], [0], [1], [1], [1], [1], [1], [1], [1], [0], [1], [1], [0], [1], [0], [0], [1], [1], [0], [0], [0], [1], [0], [0], [1], [1], [0], [0], [0], [0], [0], [0], [0], [0], [0], [1], [0], [0], [0], [1], [1], [0], [0], [1], [0], [0], [1], [0], [0], [0], [1], [0], [1], [0], [0], [0], [0], [0], [0], [1], [0], [0], [0], [0], [0], [1], [1], [1], [0], [0], [0]]\n"
          ]
        }
      ]
    }
  ]
}